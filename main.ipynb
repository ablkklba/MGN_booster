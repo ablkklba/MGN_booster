{
 "cells": [
  {
   "cell_type": "code",
   "execution_count": 1,
   "metadata": {},
   "outputs": [
    {
     "name": "stdout",
     "output_type": "stream",
     "text": [
      "input address:  0x92C88EB0F89465aC3D9453F84E20DD1b2015ffF2\n"
     ]
    }
   ],
   "source": [
    "from web3 import Web3\n",
    "from eth_account import Account\n",
    "\n",
    "#此代码默认已授权合约调用足够代币\n",
    "RPC = 'https://arb-mainnet.g.alchemy.com/v2/qL7ObTkY8Vn1wJRwIjjzUAd-BFLSRO8o'\n",
    "P_KEY = input('Enter your private key: ')\n",
    "\n",
    "w3= Web3(Web3.HTTPProvider(RPC))\n",
    "print(\"input address: \", Account.from_key(P_KEY).address)"
   ]
  },
  {
   "cell_type": "code",
   "execution_count": 3,
   "metadata": {},
   "outputs": [],
   "source": [
    "from eth_abi import encode\n",
    "\n",
    "class TxHelper:\n",
    "    \n",
    "    eth_address = Account.from_key(P_KEY).address\n",
    "    # get nonce\n",
    "    @staticmethod\n",
    "    def nonce():\n",
    "        return w3.eth.get_transaction_count(TxHelper.eth_address)\n",
    "    # get txn params\n",
    "    @staticmethod\n",
    "    def build_txn_params( gas_limit=2000000):\n",
    "        return {\n",
    "            'from': TxHelper.eth_address,\n",
    "            'gas': gas_limit,\n",
    "            'gasPrice': w3.eth.gas_price,\n",
    "            'nonce': TxHelper.nonce(),\n",
    "        }\n",
    "    \n",
    "    # build transaction, signed and then send\n",
    "    @staticmethod\n",
    "    def send(transaction_data):\n",
    "        signed_txn = Account.sign_transaction(transaction_data, P_KEY)\n",
    "        txn_hash = w3.eth.send_raw_transaction(signed_txn.rawTransaction)\n",
    "        return txn_hash\n",
    "    \n",
    "    @staticmethod\n",
    "    def call_contract_function(contract_address,function_selector ,params:list,params_type:list):\n",
    "        # 构建函数调用的数据\n",
    "        data = function_selector + str(encode(params_type, params).hex())\n",
    "        transaction_data = {\n",
    "            'to': contract_address,\n",
    "            'data': data,\n",
    "        }\n",
    "        transaction_data.update(TxHelper.build_txn_params())\n",
    "        signed_txn = Account.sign_transaction(transaction_data, P_KEY)\n",
    "        txn_hash = w3.eth.send_raw_transaction(signed_txn.rawTransaction)\n",
    "        return txn_hash\n",
    "    \n",
    "    @staticmethod\n",
    "    def wait_for_complete(txn_hash):\n",
    "        receipt = w3.eth.wait_for_transaction_receipt(txn_hash)\n",
    "        if receipt is None or receipt['status'] != 1:\n",
    "            raise Exception('transaction failed')\n",
    "        return receipt"
   ]
  },
  {
   "cell_type": "code",
   "execution_count": 4,
   "metadata": {},
   "outputs": [],
   "source": [
    "import json\n",
    "class Xmgn:\n",
    "    #stake withdraw\n",
    "    def __init__(self):\n",
    "        with open('./abi/xmgn.abi') as f:\n",
    "            xmgn_abi = json.load(f)\n",
    "        \n",
    "        with open('./abi/erc20.abi') as f:\n",
    "            erc20_abi = json.load(f)\n",
    "        self.contract = w3.eth.contract(address=\"0x25B9f82D1F1549F97b86bd0873738E30f23D15ea\", abi=xmgn_abi)\n",
    "        self.mgn_contract = w3.eth.contract(address=\"0xFc77b86F3ADe71793E1EEc1E7944DB074922856e\", abi=erc20_abi)\n",
    "    def balanceOf(self, address):\n",
    "        return self.contract.functions.balanceOf(address).call()\n",
    "    def mgn_balanceOf(self, address):\n",
    "        return self.mgn_contract.functions.balanceOf(address).call()\n",
    "    def withdraw(self,amount):\n",
    "        transaction_data = self.contract.functions.withdraw(amount).build_transaction(TxHelper.build_txn_params())\n",
    "        return TxHelper.send(transaction_data)\n",
    "    def stake(self,amount):\n",
    "        transaction_data = self.contract.functions.stake(amount).build_transaction(TxHelper.build_txn_params())\n",
    "        return TxHelper.send(transaction_data)"
   ]
  },
  {
   "cell_type": "code",
   "execution_count": 5,
   "metadata": {},
   "outputs": [],
   "source": [
    "from eth_abi import encode\n",
    "class StMgn:\n",
    "    #deposit redeeme\n",
    "    def __init__(self):\n",
    "        self.contract_address='0x5A45fa1EB7033B488f160Fe8C852eF867547fF65'\n",
    "\n",
    "        self.deposit_function_selector = '0x6e553f65'\n",
    "        self.redeem_function_selector = '0xba087652'\n",
    "\n",
    "        with open('./abi/erc20.abi') as f:\n",
    "            erc20_abi = json.load(f)\n",
    "        self.erc20  = w3.eth.contract(address=self.contract_address, abi=erc20_abi)\n",
    "    \n",
    "    \n",
    "    def balanceOf(self, address):\n",
    "        return self.erc20.functions.balanceOf(address).call()\n",
    "\n",
    "    #Function: deposit(uint256 amount, address to) ***\n",
    "    def deposit(self,amount,to):\n",
    "        params_type = ['uint256','address']\n",
    "        params = [amount,to]\n",
    "        return TxHelper.call_contract_function(self.contract_address,self.deposit_function_selector,params,params_type)\n",
    "    \n",
    "    # Function: redeem(uint256 _shares, address _receiver, address _owner) ***\n",
    "    def redeem(self,amount,to,owner):\n",
    "        params_type = ['uint256','address','address']\n",
    "        params = [amount,to,owner]\n",
    "        return TxHelper.call_contract_function(self.contract_address,self.redeem_function_selector,params,params_type)"
   ]
  },
  {
   "cell_type": "code",
   "execution_count": null,
   "metadata": {},
   "outputs": [],
   "source": [
    "import time\n",
    "xmgn=Xmgn()\n",
    "stmgn = StMgn()\n",
    "\n",
    "# withdraw -> deposit-> redeem ->stake\n",
    "# xMGN-MGN-stMGN v2-MGN-xMGN\n",
    "#1. get xmgn balance \n",
    "xmgn_balance = xmgn.balanceOf(TxHelper.eth_address)\n",
    "print(\"address withdraw xmgn balance %f\" %(xmgn_balance/10**18))\n",
    "#2. withdraw xmgn to mgn 赎回xmgn\n",
    "hash = xmgn.withdraw(xmgn_balance)\n",
    "print(\"withdrew hash \"+hash.hex())\n",
    "TxHelper.wait_for_complete(hash)\n",
    "#3. get mgn balance\n",
    "mgn_balance = xmgn.mgn_balanceOf(TxHelper.eth_address)\n",
    "open_amt = mgn_balance\n",
    "print(\"address mgn balance %f\" %(mgn_balance/10**18))\n",
    "#4. deposit mgn to stMGN 存至自动复利器\n",
    "hash = stmgn.deposit(mgn_balance,TxHelper.eth_address)\n",
    "TxHelper.wait_for_complete(hash)\n",
    "print(\"deposit hash \"+hash.hex())\n",
    "\n"
   ]
  },
  {
   "cell_type": "code",
   "execution_count": 9,
   "metadata": {},
   "outputs": [
    {
     "name": "stdout",
     "output_type": "stream",
     "text": [
      "address redeem stmgn balance 401.601262\n",
      "redeem hash 0x67e471ac599deb891e71d0f02782ac72f361b455a9adca5affffe35fcdb1e0c2\n",
      "address mgn balance 403.514793\n"
     ]
    },
    {
     "ename": "Exception",
     "evalue": "transaction failed",
     "output_type": "error",
     "traceback": [
      "\u001b[1;31m---------------------------------------------------------------------------\u001b[0m",
      "\u001b[1;31mException\u001b[0m                                 Traceback (most recent call last)",
      "Cell \u001b[1;32mIn[9], line 13\u001b[0m\n\u001b[0;32m     11\u001b[0m \u001b[39m#8. stake mgn to xmgn\u001b[39;00m\n\u001b[0;32m     12\u001b[0m \u001b[39mhash\u001b[39m \u001b[39m=\u001b[39m xmgn\u001b[39m.\u001b[39mstake(mgn_balance)\n\u001b[1;32m---> 13\u001b[0m TxHelper\u001b[39m.\u001b[39;49mwait_for_complete(\u001b[39mhash\u001b[39;49m)\n\u001b[0;32m     14\u001b[0m \u001b[39mprint\u001b[39m(\u001b[39m\"\u001b[39m\u001b[39mstake hash \u001b[39m\u001b[39m\"\u001b[39m\u001b[39m+\u001b[39m\u001b[39mhash\u001b[39m\u001b[39m.\u001b[39mhex())\n",
      "Cell \u001b[1;32mIn[3], line 44\u001b[0m, in \u001b[0;36mTxHelper.wait_for_complete\u001b[1;34m(txn_hash)\u001b[0m\n\u001b[0;32m     42\u001b[0m receipt \u001b[39m=\u001b[39m w3\u001b[39m.\u001b[39meth\u001b[39m.\u001b[39mwait_for_transaction_receipt(txn_hash)\n\u001b[0;32m     43\u001b[0m \u001b[39mif\u001b[39;00m receipt \u001b[39mis\u001b[39;00m \u001b[39mNone\u001b[39;00m \u001b[39mor\u001b[39;00m receipt[\u001b[39m'\u001b[39m\u001b[39mstatus\u001b[39m\u001b[39m'\u001b[39m] \u001b[39m!=\u001b[39m \u001b[39m1\u001b[39m:\n\u001b[1;32m---> 44\u001b[0m     \u001b[39mraise\u001b[39;00m \u001b[39mException\u001b[39;00m(\u001b[39m'\u001b[39m\u001b[39mtransaction failed\u001b[39m\u001b[39m'\u001b[39m)\n\u001b[0;32m     45\u001b[0m \u001b[39mreturn\u001b[39;00m receipt\n",
      "\u001b[1;31mException\u001b[0m: transaction failed"
     ]
    }
   ],
   "source": [
    "#5. get stMGN balance\n",
    "stmgn_amt= stmgn.balanceOf(TxHelper.eth_address)\n",
    "print(\"address redeem stmgn balance %f\" %(stmgn_amt/10**18))\n",
    "\n",
    "time.sleep(150)\n",
    "\n",
    "#6. redeem stMGN to mgn 取自自动复利器\n",
    "hash = stmgn.redeem(stmgn_amt,TxHelper.eth_address,TxHelper.eth_address)\n",
    "TxHelper.wait_for_complete(hash)\n",
    "print(\"redeem hash \"+hash.hex())\n",
    "#7. get mgn balance\n",
    "mgn_balance = xmgn.mgn_balanceOf(TxHelper.eth_address)\n",
    "close_amt = mgn_balance\n",
    "reward = close_amt - open_amt\n",
    "print(\"address mgn balance %f\" %(mgn_balance/10**18))\n",
    "#8. stake mgn to xmgn\n",
    "hash = xmgn.stake(mgn_balance)\n",
    "TxHelper.wait_for_complete(hash)\n",
    "print(\"stake hash \"+hash.hex())\n",
    "print('excute reward '+str(reward))\n",
    "print('cumulative reward')"
   ]
  },
  {
   "cell_type": "code",
   "execution_count": 13,
   "metadata": {},
   "outputs": [
    {
     "name": "stdout",
     "output_type": "stream",
     "text": [
      "4\n"
     ]
    }
   ],
   "source": [
    "import time\n",
    "time.sleep(5)\n",
    "print(4)"
   ]
  }
 ],
 "metadata": {
  "kernelspec": {
   "display_name": "base",
   "language": "python",
   "name": "python3"
  },
  "language_info": {
   "codemirror_mode": {
    "name": "ipython",
    "version": 3
   },
   "file_extension": ".py",
   "mimetype": "text/x-python",
   "name": "python",
   "nbconvert_exporter": "python",
   "pygments_lexer": "ipython3",
   "version": "3.10.9"
  },
  "orig_nbformat": 4
 },
 "nbformat": 4,
 "nbformat_minor": 2
}
